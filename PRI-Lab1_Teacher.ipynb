{
 "cells": [
  {
   "cell_type": "code",
   "execution_count": 130,
   "metadata": {},
   "outputs": [
    {
     "name": "stdout",
     "output_type": "stream",
     "text": [
      "[1, 2, 3, 4, 6, 7, 8, 9]\n"
     ]
    }
   ],
   "source": [
    "#1.1\n",
    "    \n",
    "\n",
    "def partition(A , low , high):\n",
    "    pivot = A[low]\n",
    "    left_wall = low\n",
    "    for i in range(low + 1,high):\n",
    "        if A[i] < pivot:\n",
    "            left_wall = left_wall + 1\n",
    "            A[i],A[left_wall] = A[left_wall],A[i]\n",
    "        \n",
    "    A[low],A[left_wall] = A[left_wall],A[low]\n",
    "    return left_wall\n",
    "        \n",
    "    \n",
    "\n",
    "\n",
    "def quicksort(A , low , high):\n",
    "    if len(A) == 1:\n",
    "        return A\n",
    "    if low < high:\n",
    "        pivot_location = partition(A , low , high)\n",
    "        quicksort(A , low , pivot_location )\n",
    "        quicksort(A , pivot_location + 1, high)\n",
    "        \n",
    "        \n",
    "    return A\n",
    "    \n",
    "        \n",
    "\n",
    "A = [1,2,3,4,7,6,8,9]  \n",
    "low = 0\n",
    "high = len(A) -1\n",
    "print(quicksort(A , low , high))\n"
   ]
  },
  {
   "cell_type": "code",
   "execution_count": null,
   "metadata": {},
   "outputs": [],
   "source": []
  },
  {
   "cell_type": "code",
   "execution_count": 106,
   "metadata": {},
   "outputs": [
    {
     "name": "stdout",
     "output_type": "stream",
     "text": [
      "['0', '1', '2', '3', '3', '4', '4', '6', '7', '7', '9']\n"
     ]
    }
   ],
   "source": [
    "#1.2\n",
    "f = open('values.txt', 'r')\n",
    "valuesAsc = []\n",
    "for line in f:\n",
    "    valuesAsc.append(line)\n",
    "    valuesAsc[-1] = valuesAsc[-1].split('\\n')[0]\n",
    "print(quicksort(valuesAsc , 0 , len(valuesAsc)))\n",
    "    "
   ]
  },
  {
   "cell_type": "code",
   "execution_count": 107,
   "metadata": {},
   "outputs": [
    {
     "name": "stdout",
     "output_type": "stream",
     "text": [
      "{'Welcome': 2, 'to': 14, 'Técnico!': 1, 'This': 1, 'year,': 1, 'and': 6, 'due': 1, 'the': 14, 'constraints': 1, 'imposed': 1, 'by': 1, 'pandemic,': 1, 'welcome': 1, 'sessions': 1, 'had': 1, 'be': 1, 'redesigned': 1, 'changed.': 1, 'We': 2, 'have': 2, 'collected': 1, 'all': 1, 'relevant': 1, 'information': 1, 'at': 1, 'http://bem-vindo.tecnico.ulisboa.pt.\\n': 1, 'The': 4, 'enrollment': 3, 'process': 2, 'of': 7, 'international': 1, 'students': 5, 'started': 1, 'last': 1, 'Friday,': 1, 'September': 3, '11,': 1, 'will': 3, 'continue': 1, 'until': 1, '18.': 1, 'Regular': 1, 'who': 3, 'applied': 1, 'through': 1, 'other': 1, 'special': 1, 'competitions': 1, '(for': 1, 'example,': 1, 'change': 1, 'school/course)': 1, 'master': 1, 'must': 2, 'enroll': 1, 'between': 1, '14-18': 1, 'September.\\n': 1, 'Week': 1, 'New': 1, 'Students,': 1, 'placed': 1, 'in': 3, '1st': 1, 'phase': 1, 'National': 1, 'Competition': 1, 'for': 3, 'Access': 1, 'public': 1, 'Higher': 1, 'Education,': 1, 'run': 1, 'from': 1, '28th': 1, '2nd': 1, 'October.\\n': 1, 'Students': 1, 'already': 1, 'attended': 1, 'Técnico': 2, 'previous': 1, 'years': 1, 'carry': 2, 'out': 2, 'remotely': 1, 'with': 1, 'support': 1, 'Graduation': 1, 'Area': 1, '–graduacao@tecnico.ulisboa.pt': 1, '(Alameda': 1, 'campus)': 1, 'academicatagus@tecnico.ulisboa.pt': 1, '(Taguspark': 1, 'campus).\\n': 1, 'new': 1, 'register': 1, 'on': 1, 'admission': 1, 'platform': 1, 'order': 1, 'schedule': 1, 'a': 1, 'visit': 1, 'campuses.\\n': 1, 'ask': 1, 'need': 1, 'come': 1, 'Técnico’s': 1, 'campuses': 1, '–': 2, 'according': 1, 'slot': 1, 'that': 1, 'has': 1, 'been': 1, 'allocated': 1, 'them': 1, 'pay': 1, 'attention': 1, 'following': 1, 'rules:\\n': 1, '•': 5, 'Temperature': 1, 'screening': 1, 'before': 1, 'entering': 1, 'campus;\\n': 1, 'use': 1, 'face': 1, 'mask': 1, 'is': 1, 'mandatory,': 1, 'including': 1, 'outdoors;\\n': 1, 'Respect': 1, 'maximum': 1, 'occupancy': 1, 'rates': 1, 'established': 1, 'indoor': 1, 'spaces;\\n': 1, 'Gatherings': 1, 'more': 1, 'than': 1, '10': 1, 'people': 1, 'are': 1, 'prohibited;\\n': 1, 'Be': 1, 'aware': 1, 'opening': 1, 'hours': 1, 'different': 1, 'activities.': 1}\n"
     ]
    }
   ],
   "source": [
    "#1.3\n",
    "\n",
    "f = open('filename.txt', 'r')\n",
    "words = {}\n",
    "for line in f:\n",
    "    a = line.split(\" \")\n",
    "    for i in a:\n",
    "        if i in words:\n",
    "            words[i] = words[i]+1\n",
    "        else:\n",
    "            words[i] = 1\n",
    "f.close()\n",
    "print(words)"
   ]
  },
  {
   "cell_type": "code",
   "execution_count": 122,
   "metadata": {},
   "outputs": [
    {
     "name": "stdout",
     "output_type": "stream",
     "text": [
      "['welcome', 'to', 'técnico!', 'this', 'year,', 'and', 'due', 'to', 'the', 'constraints', 'imposed', 'by', 'the', 'pandemic,', 'the', 'welcome', 'sessions', 'had', 'to', 'be', 'redesigned', 'and', 'changed.', 'we', 'have', 'collected', 'all', 'relevant', 'information', 'at', 'http://bem-vindo.tecnico.ulisboa.pt.', 'the', 'enrollment', 'process', 'of', 'international', 'students', 'started', 'last', 'friday,', 'september', '11,', 'and', 'will', 'continue', 'until', 'september', '18.', 'regular', 'students', 'who', 'applied', 'through', 'other', 'special', 'competitions', '(for', 'example,', 'change', 'of', 'school/course)', 'and', 'master', 'students', 'must', 'enroll', 'between', '14-18', 'september.', 'the', 'welcome', 'week', 'to', 'new', 'students,', 'placed', 'in', 'the', '1st', 'phase', 'of', 'the', 'national', 'competition', 'for', 'access', 'to', 'public', 'higher', 'education,', 'will', 'run', 'from', '28th', 'september', 'to', '2nd', 'october.', 'students', 'who', 'have', 'already', 'attended', 'técnico', 'in', 'previous', 'years', 'will', 'carry', 'out', 'the', 'enrollment', 'process', 'remotely', 'with', 'the', 'support', 'of', 'graduation', 'area', '–graduacao@tecnico.ulisboa.pt', '(alameda', 'campus)', 'and', 'academicatagus@tecnico.ulisboa.pt', '(taguspark', 'campus).', 'the', 'new', 'students', 'must', 'register', 'on', 'técnico', 'admission', 'platform', 'in', 'order', 'to', 'carry', 'out', 'the', 'enrollment', 'and', 'schedule', 'a', 'visit', 'to', 'the', 'campuses.', 'we', 'ask', 'students', 'who', 'need', 'to', 'come', 'to', 'técnico’s', 'campuses', '–', 'according', 'to', 'the', 'slot', 'that', 'has', 'been', 'allocated', 'to', 'them', '–', 'to', 'pay', 'attention', 'to', 'the', 'following', 'rules:', '•', 'temperature', 'screening', 'before', 'entering', 'the', 'campus;', '•', 'the', 'use', 'of', 'face', 'mask', 'is', 'mandatory,', 'including', 'outdoors;', '•', 'respect', 'the', 'maximum', 'occupancy', 'rates', 'established', 'for', 'indoor', 'spaces;', '•', 'gatherings', 'of', 'more', 'than', '10', 'people', 'are', 'prohibited;', '•', 'be', 'aware', 'of', 'opening', 'hours', 'for', 'the', 'different', 'activities.']\n"
     ]
    }
   ],
   "source": [
    "#1.4\n",
    "\n",
    "\n",
    "def get_Words(filename):\n",
    "    f = open(filename, 'r')\n",
    "    words = {}\n",
    "    for line in f:\n",
    "        a = line.split(\" \")\n",
    "        for i in a:\n",
    "            if i in words:\n",
    "                words[i] = words[i]+1\n",
    "            else:\n",
    "                words[i] = 1\n",
    "    f.close()\n",
    "    return words\n",
    "\n",
    "dict_1 = get_Words('filename.txt')\n",
    "dict_2 = get_Words('filename1.txt')\n",
    "\n",
    "dict_3 = {key:dict_2[key] for key in dict_1 if key in dict_2}\n",
    "len(dict_3)\n",
    "\n",
    "\n",
    "\n",
    "#OR\n",
    "\n",
    "\n",
    "\n",
    "\n",
    "document1 = open('filename.txt', 'r').read().lower().split()\n",
    "document2 = open('filename1.txt', 'r').read().lower().split()\n",
    "\n",
    "intersection = set(document1) & set(document2)\n",
    "\n",
    "#len(intersection)"
   ]
  },
  {
   "cell_type": "code",
   "execution_count": 123,
   "metadata": {},
   "outputs": [
    {
     "name": "stdout",
     "output_type": "stream",
     "text": [
      "showing info https://raw.githubusercontent.com/nltk/nltk_data/gh-pages/index.xml\n"
     ]
    },
    {
     "name": "stderr",
     "output_type": "stream",
     "text": [
      "[nltk_data] Downloading package words to /Users/joaotiago/nltk_data...\n",
      "[nltk_data]   Package words is already up-to-date!\n",
      "[nltk_data] Downloading package punkt to /Users/joaotiago/nltk_data...\n",
      "[nltk_data]   Package punkt is already up-to-date!\n",
      "[nltk_data] Downloading package gutenberg to\n",
      "[nltk_data]     /Users/joaotiago/nltk_data...\n",
      "[nltk_data]   Package gutenberg is already up-to-date!\n",
      "[nltk_data] Downloading package averaged_perceptron_tagger to\n",
      "[nltk_data]     /Users/joaotiago/nltk_data...\n",
      "[nltk_data]   Package averaged_perceptron_tagger is already up-to-\n",
      "[nltk_data]       date!\n",
      "[nltk_data] Downloading package maxent_ne_chunker to\n",
      "[nltk_data]     /Users/joaotiago/nltk_data...\n",
      "[nltk_data]   Package maxent_ne_chunker is already up-to-date!\n",
      "[nltk_data] Downloading package stopwords to\n",
      "[nltk_data]     /Users/joaotiago/nltk_data...\n",
      "[nltk_data]   Package stopwords is already up-to-date!\n"
     ]
    }
   ],
   "source": [
    "#2\n",
    "\n",
    "import nltk\n",
    "#nltk.download()\n",
    "\n",
    "nltk.download('words')\n",
    "nltk.download('punkt')\n",
    "nltk.download('gutenberg')\n",
    "nltk.download('averaged_perceptron_tagger')\n",
    "nltk.download('maxent_ne_chunker')\n",
    "nltk.download('stopwords')\n",
    "from nltk.corpus import gutenberg\n",
    "from nltk.probability import FreqDist"
   ]
  },
  {
   "cell_type": "code",
   "execution_count": 110,
   "metadata": {},
   "outputs": [
    {
     "name": "stdout",
     "output_type": "stream",
     "text": [
      "['At', 'eight', \"o'clock\", 'on', 'Thursday', 'morning', 'Arthur', 'did', \"n't\", 'feel', 'very', 'good', '.']\n",
      "[('At', 'IN'), ('eight', 'CD'), (\"o'clock\", 'NN'), ('on', 'IN'), ('Thursday', 'NNP'), ('morning', 'NN'), ('Arthur', 'NNP'), ('did', 'VBD'), (\"n't\", 'RB'), ('feel', 'VB'), ('very', 'RB'), ('good', 'JJ'), ('.', '.')]\n",
      "(S\n",
      "  At/IN\n",
      "  eight/CD\n",
      "  o'clock/NN\n",
      "  on/IN\n",
      "  Thursday/NNP\n",
      "  morning/NN\n",
      "  (PERSON Arthur/NNP)\n",
      "  did/VBD\n",
      "  n't/RB\n",
      "  feel/VB\n",
      "  very/RB\n",
      "  good/JJ\n",
      "  ./.)\n"
     ]
    }
   ],
   "source": [
    "sentence = \"\"\"At eight o'clock on Thursday morning Arthur didn't feel very good.\"\"\"\n",
    "tokens = nltk.word_tokenize(sentence)\n",
    "print(tokens)\n",
    "tagged = nltk.pos_tag(tokens)\n",
    "print(tagged)\n",
    "entities = nltk.ne_chunk(tagged)\n",
    "print(entities)\n"
   ]
  },
  {
   "cell_type": "code",
   "execution_count": 125,
   "metadata": {},
   "outputs": [
    {
     "data": {
      "image/png": "[encoded data removed]",
      "text/plain": [
       "<Figure size 432x288 with 1 Axes>"
      ]
     },
     "metadata": {
      "needs_background": "light"
     },
     "output_type": "display_data"
    },
    {
     "name": "stdout",
     "output_type": "stream",
     "text": [
      "dict_items([('Welcome', 2), ('to', 14), ('Técnico', 4), ('!', 1), ('This', 1), ('year', 1), (',', 8), ('and', 6), ('due', 1), ('the', 14), ('constraints', 1), ('imposed', 1), ('by', 1), ('pandemic', 1), ('welcome', 1), ('sessions', 1), ('had', 1), ('be', 1), ('redesigned', 1), ('changed', 1), ('.', 8), ('We', 2), ('have', 2), ('collected', 1), ('all', 1), ('relevant', 1), ('information', 1), ('at', 1), ('http', 1), (':', 2), ('//bem-vindo.tecnico.ulisboa.pt', 1), ('The', 4), ('enrollment', 3), ('process', 2), ('of', 7), ('international', 1), ('students', 5), ('started', 1), ('last', 1), ('Friday', 1), ('September', 4), ('11', 1), ('will', 3), ('continue', 1), ('until', 1), ('18', 1), ('Regular', 1), ('who', 3), ('applied', 1), ('through', 1), ('other', 1), ('special', 1), ('competitions', 1), ('(', 3), ('for', 4), ('example', 1), ('change', 1), ('school/course', 1), (')', 3), ('master', 1), ('must', 2), ('enroll', 1), ('between', 1), ('14-18', 1), ('Week', 1), ('New', 1), ('Students', 2), ('placed', 1), ('in', 3), ('1st', 1), ('phase', 1), ('National', 1), ('Competition', 1), ('Access', 1), ('public', 1), ('Higher', 1), ('Education', 1), ('run', 1), ('from', 1), ('28th', 1), ('2nd', 1), ('October', 1), ('already', 1), ('attended', 1), ('previous', 1), ('years', 1), ('carry', 2), ('out', 2), ('remotely', 1), ('with', 1), ('support', 1), ('Graduation', 1), ('Area', 1), ('–graduacao', 1), ('@', 2), ('tecnico.ulisboa.pt', 2), ('Alameda', 1), ('campus', 3), ('academicatagus', 1), ('Taguspark', 1), ('new', 1), ('register', 1), ('on', 1), ('admission', 1), ('platform', 1), ('order', 1), ('schedule', 1), ('a', 1), ('visit', 1), ('campuses', 2), ('ask', 1), ('need', 1), ('come', 1), ('’', 1), ('s', 1), ('–', 2), ('according', 1), ('slot', 1), ('that', 1), ('has', 1), ('been', 1), ('allocated', 1), ('them', 1), ('pay', 1), ('attention', 1), ('following', 1), ('rules', 1), ('•', 5), ('Temperature', 1), ('screening', 1), ('before', 1), ('entering', 1), (';', 4), ('use', 1), ('face', 1), ('mask', 1), ('is', 1), ('mandatory', 1), ('including', 1), ('outdoors', 1), ('Respect', 1), ('maximum', 1), ('occupancy', 1), ('rates', 1), ('established', 1), ('indoor', 1), ('spaces', 1), ('Gatherings', 1), ('more', 1), ('than', 1), ('10', 1), ('people', 1), ('are', 1), ('prohibited', 1), ('Be', 1), ('aware', 1), ('opening', 1), ('hours', 1), ('different', 1), ('activities', 1)])\n"
     ]
    }
   ],
   "source": [
    "#2.1.1\n",
    "\n",
    "document = open('filename.txt', 'r').read()\n",
    "#sentences = nltk.sent_tokenize(document)\n",
    "words = nltk.word_tokenize(document)\n",
    "\n",
    "data_analysis = nltk.FreqDist(words)\n",
    "\n",
    "data_analysis.plot(40, cumulative=False)\n",
    "\n",
    "print(data_analysis.items())\n"
   ]
  },
  {
   "cell_type": "code",
   "execution_count": 112,
   "metadata": {},
   "outputs": [
    {
     "data": {
      "image/png": "[encoded data removed]",
      "text/plain": [
       "<Figure size 432x288 with 1 Axes>"
      ]
     },
     "metadata": {
      "needs_background": "light"
     },
     "output_type": "display_data"
    },
    {
     "data": {
      "text/plain": [
       "<matplotlib.axes._subplots.AxesSubplot at 0x7fe65cf4aa90>"
      ]
     },
     "execution_count": 112,
     "metadata": {},
     "output_type": "execute_result"
    }
   ],
   "source": [
    "# (2.1.1) example if we remove stop words\n",
    "\n",
    "stop_words = nltk.corpus.stopwords.words('english')\n",
    "\n",
    "filter_words = [x for x in words if x not in stop_words ]\n",
    "data_analysis = nltk.FreqDist(filter_words)\n",
    "data_analysis.plot(10, cumulative=False)\n",
    "\n",
    "\n",
    "#dir(nltk.FreqDist())"
   ]
  },
  {
   "cell_type": "code",
   "execution_count": 113,
   "metadata": {},
   "outputs": [
    {
     "data": {
      "text/plain": [
       "1"
      ]
     },
     "execution_count": 113,
     "metadata": {},
     "output_type": "execute_result"
    }
   ],
   "source": [
    "#2.1.2\n",
    "words1 = nltk.word_tokenize(open('filename.txt', 'r').read())\n",
    "words2 = nltk.word_tokenize(open('filename1.txt', 'r').read())\n",
    "\n",
    "intersection = set(words1) & set(words2)\n",
    "len(intersection)\n"
   ]
  },
  {
   "cell_type": "code",
   "execution_count": 114,
   "metadata": {},
   "outputs": [
    {
     "data": {
      "image/png": "[encoded data removed]",
      "text/plain": [
       "<Figure size 432x288 with 1 Axes>"
      ]
     },
     "metadata": {
      "needs_background": "light"
     },
     "output_type": "display_data"
    },
    {
     "data": {
      "text/plain": [
       "<matplotlib.axes._subplots.AxesSubplot at 0x7fe65de12710>"
      ]
     },
     "execution_count": 114,
     "metadata": {},
     "output_type": "execute_result"
    }
   ],
   "source": [
    "#2.2\n",
    "document = open('filename.txt', 'r').read()\n",
    "tokens = nltk.word_tokenize(document)\n",
    "tagged = nltk.pos_tag(tokens)\n",
    "#print(tagged)\n",
    "syn_classes = [i[1] for i in tagged]\n",
    "\n",
    "# just to remove the 'period' class\n",
    "syn_classes = list(filter(lambda a: a != '.', syn_classes))\n",
    "\n",
    "data_analysis = nltk.FreqDist(syn_classes)\n",
    "data_analysis.plot(10, cumulative=False)"
   ]
  },
  {
   "cell_type": "code",
   "execution_count": 115,
   "metadata": {},
   "outputs": [
    {
     "data": {
      "text/plain": [
       "['year',\n",
       " 'pandemic',\n",
       " 'information',\n",
       " 'http',\n",
       " 'process',\n",
       " 'example',\n",
       " 'change',\n",
       " 'school/course',\n",
       " 'phase',\n",
       " 'Education',\n",
       " 'enrollment',\n",
       " 'process',\n",
       " 'support',\n",
       " 'tecnico.ulisboa.pt',\n",
       " 'campus',\n",
       " 'tecnico.ulisboa.pt',\n",
       " 'campus',\n",
       " 'admission',\n",
       " 'platform',\n",
       " 'order',\n",
       " 'enrollment',\n",
       " 'schedule',\n",
       " 'visit',\n",
       " 's',\n",
       " 'slot',\n",
       " 'attention',\n",
       " 'screening',\n",
       " 'campus',\n",
       " 'use',\n",
       " 'face',\n",
       " 'mask',\n",
       " 'occupancy',\n",
       " 'opening']"
      ]
     },
     "execution_count": 115,
     "metadata": {},
     "output_type": "execute_result"
    }
   ],
   "source": [
    "#2.3\n",
    "document = open('filename.txt', 'r').read()\n",
    "tokens = nltk.word_tokenize(document)\n",
    "tagged = nltk.pos_tag(tokens)\n",
    "\n",
    "names = [i[0] for i in tagged if i[1] == 'NN']\n",
    "names"
   ]
  },
  {
   "cell_type": "code",
   "execution_count": 116,
   "metadata": {},
   "outputs": [
    {
     "name": "stdout",
     "output_type": "stream",
     "text": [
      "[('What', 'WP'), ('is', 'VBZ'), ('the', 'DT'), ('airspeed', 'NN'), ('of', 'IN'), ('an', 'DT'), ('unladen', 'NN'), ('swallow', 'NN'), ('?', '.')]\n"
     ]
    }
   ],
   "source": [
    "#2.4 #4.3\n",
    "sentence = 'What is the airspeed of an unladen swallow ?'.split()\n",
    "\n",
    "\n",
    "#nltk.download()\n",
    "from nltk.tag import SennaTagger\n",
    "tagger = SennaTagger('senna')\n",
    "print(tagger.tag(sentence))\n",
    "\n",
    "\n",
    "## Senna Tagger\n",
    "\n"
   ]
  },
  {
   "cell_type": "code",
   "execution_count": 117,
   "metadata": {},
   "outputs": [
    {
     "name": "stdout",
     "output_type": "stream",
     "text": [
      "\n",
      "Welcome to Técnico! This year, and due to the constraints imposed by the pandemic, the welcome sessions had to be redesigned and changed. We have collected all relevant information at http://bem-vindo.tecnico.ulisboa.pt.\n",
      "The enrollment process of international students started last Friday, September 11, and will continue until September 18. Regular students who applied through other special competitions (for example, change of school/course) and master students must enroll between 14-18 September.\n",
      "The Welcome Week to New Students, placed in the 1st phase of the National Competition for Access to public Higher Education, will run from 28th September to 2nd October.\n",
      "Students who have already attended Técnico in previous years will carry out the enrollment process remotely with the support of Graduation Area –graduacao@tecnico.ulisboa.pt (Alameda campus) and academicatagus@tecnico.ulisboa.pt (Taguspark campus).\n",
      "The new students must register on Técnico admission platform in order to carry out the enrollment and schedule a visit to the campuses.\n",
      "We ask students who need to come to Técnico’s campuses – according to the slot that has been allocated to them – to pay attention to the following rules:\n",
      "• Temperature screening before entering the campus;\n",
      "• The use of face mask is mandatory, including outdoors;\n",
      "• Respect the maximum occupancy rates established for indoor spaces;\n",
      "• Gatherings of more than 10 people are prohibited;\n",
      "• Be aware of opening hours for the different activities.\n",
      "\n",
      "['\\nWelcome to Técnico!', 'This year, and due to the constraints imposed by the pandemic, the welcome sessions had to be redesigned and changed.', 'We have collected all relevant information at http://bem-vindo.tecnico.ulisboa.pt.', 'The enrollment process of international students started last Friday, September 11, and will continue until September 18.', 'Regular students who applied through other special competitions (for example, change of school/course) and master students must enroll between 14-18 September.', 'The Welcome Week to New Students, placed in the 1st phase of the National Competition for Access to public Higher Education, will run from 28th September to 2nd October.', 'Students who have already attended Técnico in previous years will carry out the enrollment process remotely with the support of Graduation Area –graduacao@tecnico.ulisboa.pt (Alameda campus) and academicatagus@tecnico.ulisboa.pt (Taguspark campus).', 'The new students must register on Técnico admission platform in order to carry out the enrollment and schedule a visit to the campuses.', 'We ask students who need to come to Técnico’s campuses – according to the slot that has been allocated to them – to pay attention to the following rules:\\n• Temperature screening before entering the campus;\\n• The use of face mask is mandatory, including outdoors;\\n• Respect the maximum occupancy rates established for indoor spaces;\\n• Gatherings of more than 10 people are prohibited;\\n• Be aware of opening hours for the different activities.']\n",
      "\n",
      "Welcome to Técnico!\n",
      "['Welcome', 'to', 'Técnico', '!']\n",
      "\n",
      "tagged: [('Welcome', 'VB'), ('to', 'TO'), ('Técnico', 'VB'), ('!', '.')] \n",
      "senna_tagged: [('Welcome', 'VB'), ('to', 'TO'), ('Técnico', 'NNP'), ('!', '.')] \n",
      "\n",
      "This year, and due to the constraints imposed by the pandemic, the welcome sessions had to be redesigned and changed.\n",
      "['This', 'year', ',', 'and', 'due', 'to', 'the', 'constraints', 'imposed', 'by', 'the', 'pandemic', ',', 'the', 'welcome', 'sessions', 'had', 'to', 'be', 'redesigned', 'and', 'changed', '.']\n",
      "\n",
      "tagged: [('This', 'DT'), ('year', 'NN'), (',', ','), ('and', 'CC'), ('due', 'JJ'), ('to', 'TO'), ('the', 'DT'), ('constraints', 'NNS'), ('imposed', 'VBN'), ('by', 'IN'), ('the', 'DT'), ('pandemic', 'NN'), (',', ','), ('the', 'DT'), ('welcome', 'JJ'), ('sessions', 'NNS'), ('had', 'VBD'), ('to', 'TO'), ('be', 'VB'), ('redesigned', 'VBN'), ('and', 'CC'), ('changed', 'VBN'), ('.', '.')] \n",
      "senna_tagged: [('This', 'DT'), ('year', 'NN'), (',', ','), ('and', 'CC'), ('due', 'JJ'), ('to', 'TO'), ('the', 'DT'), ('constraints', 'NNS'), ('imposed', 'VBN'), ('by', 'IN'), ('the', 'DT'), ('pandemic', 'NN'), (',', ','), ('the', 'DT'), ('welcome', 'JJ'), ('sessions', 'NNS'), ('had', 'VBD'), ('to', 'TO'), ('be', 'VB'), ('redesigned', 'VBN'), ('and', 'CC'), ('changed', 'VBD'), ('.', '.')] \n",
      "\n",
      "We have collected all relevant information at http://bem-vindo.tecnico.ulisboa.pt.\n",
      "['We', 'have', 'collected', 'all', 'relevant', 'information', 'at', 'http', ':', '//bem-vindo.tecnico.ulisboa.pt', '.']\n",
      "\n",
      "tagged: [('We', 'PRP'), ('have', 'VBP'), ('collected', 'VBN'), ('all', 'DT'), ('relevant', 'JJ'), ('information', 'NN'), ('at', 'IN'), ('http', 'NN'), (':', ':'), ('//bem-vindo.tecnico.ulisboa.pt', 'NN'), ('.', '.')] \n",
      "senna_tagged: [('We', 'PRP'), ('have', 'VBP'), ('collected', 'VBN'), ('all', 'DT'), ('relevant', 'JJ'), ('information', 'NN'), ('at', 'IN'), ('http', 'NN'), (':', ':'), ('//bem-vindo.tecnico.ulisboa.pt', 'NN'), ('.', '.')] \n",
      "\n",
      "The enrollment process of international students started last Friday, September 11, and will continue until September 18.\n",
      "['The', 'enrollment', 'process', 'of', 'international', 'students', 'started', 'last', 'Friday', ',', 'September', '11', ',', 'and', 'will', 'continue', 'until', 'September', '18', '.']\n",
      "\n",
      "tagged: [('The', 'DT'), ('enrollment', 'NN'), ('process', 'NN'), ('of', 'IN'), ('international', 'JJ'), ('students', 'NNS'), ('started', 'VBD'), ('last', 'JJ'), ('Friday', 'NNP'), (',', ','), ('September', 'NNP'), ('11', 'CD'), (',', ','), ('and', 'CC'), ('will', 'MD'), ('continue', 'VB'), ('until', 'IN'), ('September', 'NNP'), ('18', 'CD'), ('.', '.')] \n",
      "senna_tagged: [('The', 'DT'), ('enrollment', 'NN'), ('process', 'NN'), ('of', 'IN'), ('international', 'JJ'), ('students', 'NNS'), ('started', 'VBD'), ('last', 'JJ'), ('Friday', 'NNP'), (',', ','), ('September', 'NNP'), ('11', 'CD'), (',', ','), ('and', 'CC'), ('will', 'MD'), ('continue', 'VB'), ('until', 'IN'), ('September', 'NNP'), ('18', 'CD'), ('.', '.')] \n",
      "\n",
      "Regular students who applied through other special competitions (for example, change of school/course) and master students must enroll between 14-18 September.\n",
      "['Regular', 'students', 'who', 'applied', 'through', 'other', 'special', 'competitions', '(', 'for', 'example', ',', 'change', 'of', 'school/course', ')', 'and', 'master', 'students', 'must', 'enroll', 'between', '14-18', 'September', '.']\n",
      "\n",
      "tagged: [('Regular', 'JJ'), ('students', 'NNS'), ('who', 'WP'), ('applied', 'VBD'), ('through', 'IN'), ('other', 'JJ'), ('special', 'JJ'), ('competitions', 'NNS'), ('(', '('), ('for', 'IN'), ('example', 'NN'), (',', ','), ('change', 'NN'), ('of', 'IN'), ('school/course', 'NN'), (')', ')'), ('and', 'CC'), ('master', 'JJ'), ('students', 'NNS'), ('must', 'MD'), ('enroll', 'VB'), ('between', 'IN'), ('14-18', 'JJ'), ('September', 'NNP'), ('.', '.')] \n",
      "senna_tagged: [('Regular', 'JJ'), ('students', 'NNS'), ('who', 'WP'), ('applied', 'VBD'), ('through', 'IN'), ('other', 'JJ'), ('special', 'JJ'), ('competitions', 'NNS'), ('(', '-LRB-'), ('for', 'IN'), ('example', 'NN'), (',', ','), ('change', 'NN'), ('of', 'IN'), ('school/course', 'NN'), (')', '-RRB-'), ('and', 'CC'), ('master', 'NN'), ('students', 'NNS'), ('must', 'MD'), ('enroll', 'VB'), ('between', 'IN'), ('14-18', 'CD'), ('September', 'NNP'), ('.', '.')] \n",
      "\n",
      "The Welcome Week to New Students, placed in the 1st phase of the National Competition for Access to public Higher Education, will run from 28th September to 2nd October.\n",
      "['The', 'Welcome', 'Week', 'to', 'New', 'Students', ',', 'placed', 'in', 'the', '1st', 'phase', 'of', 'the', 'National', 'Competition', 'for', 'Access', 'to', 'public', 'Higher', 'Education', ',', 'will', 'run', 'from', '28th', 'September', 'to', '2nd', 'October', '.']\n",
      "\n",
      "tagged: [('The', 'DT'), ('Welcome', 'NNP'), ('Week', 'NNP'), ('to', 'TO'), ('New', 'NNP'), ('Students', 'NNP'), (',', ','), ('placed', 'VBN'), ('in', 'IN'), ('the', 'DT'), ('1st', 'CD'), ('phase', 'NN'), ('of', 'IN'), ('the', 'DT'), ('National', 'NNP'), ('Competition', 'NNP'), ('for', 'IN'), ('Access', 'NNP'), ('to', 'TO'), ('public', 'VB'), ('Higher', 'JJR'), ('Education', 'NN'), (',', ','), ('will', 'MD'), ('run', 'VB'), ('from', 'IN'), ('28th', 'CD'), ('September', 'NNP'), ('to', 'TO'), ('2nd', 'CD'), ('October', 'NNP'), ('.', '.')] \n",
      "senna_tagged: [('The', 'DT'), ('Welcome', 'NNP'), ('Week', 'NNP'), ('to', 'TO'), ('New', 'NNP'), ('Students', 'NNPS'), (',', ','), ('placed', 'VBN'), ('in', 'IN'), ('the', 'DT'), ('1st', 'JJ'), ('phase', 'NN'), ('of', 'IN'), ('the', 'DT'), ('National', 'NNP'), ('Competition', 'NNP'), ('for', 'IN'), ('Access', 'NNP'), ('to', 'TO'), ('public', 'JJ'), ('Higher', 'NNP'), ('Education', 'NNP'), (',', ','), ('will', 'MD'), ('run', 'VB'), ('from', 'IN'), ('28th', 'JJ'), ('September', 'NNP'), ('to', 'TO'), ('2nd', 'CD'), ('October', 'NNP'), ('.', '.')] \n",
      "\n",
      "Students who have already attended Técnico in previous years will carry out the enrollment process remotely with the support of Graduation Area –graduacao@tecnico.ulisboa.pt (Alameda campus) and academicatagus@tecnico.ulisboa.pt (Taguspark campus).\n",
      "['Students', 'who', 'have', 'already', 'attended', 'Técnico', 'in', 'previous', 'years', 'will', 'carry', 'out', 'the', 'enrollment', 'process', 'remotely', 'with', 'the', 'support', 'of', 'Graduation', 'Area', '–graduacao', '@', 'tecnico.ulisboa.pt', '(', 'Alameda', 'campus', ')', 'and', 'academicatagus', '@', 'tecnico.ulisboa.pt', '(', 'Taguspark', 'campus', ')', '.']\n"
     ]
    },
    {
     "name": "stdout",
     "output_type": "stream",
     "text": [
      "\n",
      "tagged: [('Students', 'NNS'), ('who', 'WP'), ('have', 'VBP'), ('already', 'RB'), ('attended', 'VBN'), ('Técnico', 'NNP'), ('in', 'IN'), ('previous', 'JJ'), ('years', 'NNS'), ('will', 'MD'), ('carry', 'VB'), ('out', 'RP'), ('the', 'DT'), ('enrollment', 'NN'), ('process', 'NN'), ('remotely', 'RB'), ('with', 'IN'), ('the', 'DT'), ('support', 'NN'), ('of', 'IN'), ('Graduation', 'NNP'), ('Area', 'NNP'), ('–graduacao', 'NNP'), ('@', 'NNP'), ('tecnico.ulisboa.pt', 'NN'), ('(', '('), ('Alameda', 'NNP'), ('campus', 'NN'), (')', ')'), ('and', 'CC'), ('academicatagus', 'JJ'), ('@', 'NNP'), ('tecnico.ulisboa.pt', 'NN'), ('(', '('), ('Taguspark', 'NNP'), ('campus', 'NN'), (')', ')'), ('.', '.')] \n",
      "senna_tagged: [('Students', 'NNS'), ('who', 'WP'), ('have', 'VBP'), ('already', 'RB'), ('attended', 'VBN'), ('Técnico', 'NNP'), ('in', 'IN'), ('previous', 'JJ'), ('years', 'NNS'), ('will', 'MD'), ('carry', 'VB'), ('out', 'RP'), ('the', 'DT'), ('enrollment', 'NN'), ('process', 'NN'), ('remotely', 'RB'), ('with', 'IN'), ('the', 'DT'), ('support', 'NN'), ('of', 'IN'), ('Graduation', 'NNP'), ('Area', 'NNP'), ('–graduacao', 'FW'), ('@', 'FW'), ('tecnico.ulisboa.pt', 'FW'), ('(', '-LRB-'), ('Alameda', 'NNP'), ('campus', 'NN'), (')', '-RRB-'), ('and', 'CC'), ('academicatagus', 'FW'), ('@', 'FW'), ('tecnico.ulisboa.pt', 'FW'), ('(', '-LRB-'), ('Taguspark', 'JJ'), ('campus', 'NN'), (')', '-RRB-'), ('.', '.')] \n",
      "\n",
      "The new students must register on Técnico admission platform in order to carry out the enrollment and schedule a visit to the campuses.\n",
      "['The', 'new', 'students', 'must', 'register', 'on', 'Técnico', 'admission', 'platform', 'in', 'order', 'to', 'carry', 'out', 'the', 'enrollment', 'and', 'schedule', 'a', 'visit', 'to', 'the', 'campuses', '.']\n",
      "\n",
      "tagged: [('The', 'DT'), ('new', 'JJ'), ('students', 'NNS'), ('must', 'MD'), ('register', 'VB'), ('on', 'IN'), ('Técnico', 'NNP'), ('admission', 'NN'), ('platform', 'NN'), ('in', 'IN'), ('order', 'NN'), ('to', 'TO'), ('carry', 'VB'), ('out', 'RP'), ('the', 'DT'), ('enrollment', 'NN'), ('and', 'CC'), ('schedule', 'NN'), ('a', 'DT'), ('visit', 'NN'), ('to', 'TO'), ('the', 'DT'), ('campuses', 'NNS'), ('.', '.')] \n",
      "senna_tagged: [('The', 'DT'), ('new', 'JJ'), ('students', 'NNS'), ('must', 'MD'), ('register', 'VB'), ('on', 'IN'), ('Técnico', 'NNP'), ('admission', 'NN'), ('platform', 'NN'), ('in', 'IN'), ('order', 'NN'), ('to', 'TO'), ('carry', 'VB'), ('out', 'RP'), ('the', 'DT'), ('enrollment', 'NN'), ('and', 'CC'), ('schedule', 'VB'), ('a', 'DT'), ('visit', 'NN'), ('to', 'TO'), ('the', 'DT'), ('campuses', 'NNS'), ('.', '.')] \n",
      "\n",
      "We ask students who need to come to Técnico’s campuses – according to the slot that has been allocated to them – to pay attention to the following rules:\n",
      "• Temperature screening before entering the campus;\n",
      "• The use of face mask is mandatory, including outdoors;\n",
      "• Respect the maximum occupancy rates established for indoor spaces;\n",
      "• Gatherings of more than 10 people are prohibited;\n",
      "• Be aware of opening hours for the different activities.\n",
      "['We', 'ask', 'students', 'who', 'need', 'to', 'come', 'to', 'Técnico', '’', 's', 'campuses', '–', 'according', 'to', 'the', 'slot', 'that', 'has', 'been', 'allocated', 'to', 'them', '–', 'to', 'pay', 'attention', 'to', 'the', 'following', 'rules', ':', '•', 'Temperature', 'screening', 'before', 'entering', 'the', 'campus', ';', '•', 'The', 'use', 'of', 'face', 'mask', 'is', 'mandatory', ',', 'including', 'outdoors', ';', '•', 'Respect', 'the', 'maximum', 'occupancy', 'rates', 'established', 'for', 'indoor', 'spaces', ';', '•', 'Gatherings', 'of', 'more', 'than', '10', 'people', 'are', 'prohibited', ';', '•', 'Be', 'aware', 'of', 'opening', 'hours', 'for', 'the', 'different', 'activities', '.']\n",
      "\n",
      "tagged: [('We', 'PRP'), ('ask', 'VBP'), ('students', 'NNS'), ('who', 'WP'), ('need', 'VBP'), ('to', 'TO'), ('come', 'VB'), ('to', 'TO'), ('Técnico', 'NNP'), ('’', 'NNP'), ('s', 'NN'), ('campuses', 'NNS'), ('–', 'VBP'), ('according', 'VBG'), ('to', 'TO'), ('the', 'DT'), ('slot', 'NN'), ('that', 'WDT'), ('has', 'VBZ'), ('been', 'VBN'), ('allocated', 'VBN'), ('to', 'TO'), ('them', 'PRP'), ('–', 'VB'), ('to', 'TO'), ('pay', 'VB'), ('attention', 'NN'), ('to', 'TO'), ('the', 'DT'), ('following', 'JJ'), ('rules', 'NNS'), (':', ':'), ('•', 'JJ'), ('Temperature', 'NNP'), ('screening', 'NN'), ('before', 'IN'), ('entering', 'VBG'), ('the', 'DT'), ('campus', 'NN'), (';', ':'), ('•', 'CC'), ('The', 'DT'), ('use', 'NN'), ('of', 'IN'), ('face', 'NN'), ('mask', 'NN'), ('is', 'VBZ'), ('mandatory', 'JJ'), (',', ','), ('including', 'VBG'), ('outdoors', 'NNS'), (';', ':'), ('•', 'CC'), ('Respect', 'VB'), ('the', 'DT'), ('maximum', 'JJ'), ('occupancy', 'NN'), ('rates', 'NNS'), ('established', 'VBN'), ('for', 'IN'), ('indoor', 'JJ'), ('spaces', 'NNS'), (';', ':'), ('•', 'NNP'), ('Gatherings', 'NNP'), ('of', 'IN'), ('more', 'JJR'), ('than', 'IN'), ('10', 'CD'), ('people', 'NNS'), ('are', 'VBP'), ('prohibited', 'VBN'), (';', ':'), ('•', 'CC'), ('Be', 'NNP'), ('aware', 'JJ'), ('of', 'IN'), ('opening', 'NN'), ('hours', 'NNS'), ('for', 'IN'), ('the', 'DT'), ('different', 'JJ'), ('activities', 'NNS'), ('.', '.')] \n",
      "senna_tagged: [('We', 'PRP'), ('ask', 'VBP'), ('students', 'NNS'), ('who', 'WP'), ('need', 'VBP'), ('to', 'TO'), ('come', 'VB'), ('to', 'TO'), ('Técnico', 'NNP'), ('’', 'NN'), ('s', 'POS'), ('campuses', 'NNS'), ('–', 'VBP'), ('according', 'VBG'), ('to', 'TO'), ('the', 'DT'), ('slot', 'NN'), ('that', 'WDT'), ('has', 'VBZ'), ('been', 'VBN'), ('allocated', 'VBN'), ('to', 'TO'), ('them', 'PRP'), ('–', 'VB'), ('to', 'TO'), ('pay', 'VB'), ('attention', 'NN'), ('to', 'TO'), ('the', 'DT'), ('following', 'JJ'), ('rules', 'NNS'), (':', ':'), ('•', 'JJ'), ('Temperature', 'NN'), ('screening', 'NN'), ('before', 'IN'), ('entering', 'VBG'), ('the', 'DT'), ('campus', 'NN'), (';', ':'), ('•', 'VBD'), ('The', 'DT'), ('use', 'NN'), ('of', 'IN'), ('face', 'NN'), ('mask', 'NN'), ('is', 'VBZ'), ('mandatory', 'JJ'), (',', ','), ('including', 'VBG'), ('outdoors', 'NNS'), (';', ':'), ('•', 'JJ'), ('Respect', 'NN'), ('the', 'DT'), ('maximum', 'NN'), ('occupancy', 'NN'), ('rates', 'NNS'), ('established', 'VBN'), ('for', 'IN'), ('indoor', 'JJ'), ('spaces', 'NNS'), (';', ':'), ('•', 'JJ'), ('Gatherings', 'NNS'), ('of', 'IN'), ('more', 'JJR'), ('than', 'IN'), ('10', 'CD'), ('people', 'NNS'), ('are', 'VBP'), ('prohibited', 'VBN'), (';', ':'), ('•', 'NN'), ('Be', 'VB'), ('aware', 'JJ'), ('of', 'IN'), ('opening', 'VBG'), ('hours', 'NNS'), ('for', 'IN'), ('the', 'DT'), ('different', 'JJ'), ('activities', 'NNS'), ('.', '.')] \n",
      "\n"
     ]
    }
   ],
   "source": [
    "#2.5 new #4.4\n",
    "#Example IST news:\n",
    "#\n",
    "import requests\n",
    "from bs4 import BeautifulSoup\n",
    "\n",
    "query = \"https://tecnico.ulisboa.pt/en/news/campus-community/welcome-to-tecnico-2/\"\n",
    "r = requests.get(query)\n",
    "html_doc = r.text\n",
    "\n",
    "soup = BeautifulSoup(html_doc, 'html.parser')\n",
    "post = \"\"\n",
    "for s in soup.findAll(\"div\", {\"class\": \"main-article-content\"}): #soup.find_all(id=\"main\"):\n",
    "    post+=s.text\n",
    "\n",
    "print(post)\n",
    "#\n",
    "\n",
    "\n",
    "from nltk.tag import SennaTagger\n",
    "tagger = SennaTagger('senna')\n",
    "import numpy as np\n",
    "\n",
    "sent = nltk.sent_tokenize(post)\n",
    "\n",
    "print(sent)\n",
    "for sn in sent:\n",
    "    print(sn)\n",
    "    # in the nltk tokenizer\n",
    "\n",
    "    tokens = nltk.word_tokenize(sn)\n",
    "    print(tokens)\n",
    "    tagged = nltk.pos_tag(tokens)\n",
    "    #print(tagged)\n",
    "\n",
    "    # in the senna tokenizer\n",
    "    tagger = SennaTagger('senna')\n",
    "    senna_tagged = tagger.tag(tokens)\n",
    "    #print(senna_tagged)\n",
    "    \n",
    "    \n",
    "    print('\\ntagged: {0} \\nsenna_tagged: {1} \\n'.format(tagged, senna_tagged))\n",
    "\n",
    "    \n"
   ]
  },
  {
   "cell_type": "code",
   "execution_count": 118,
   "metadata": {},
   "outputs": [
    {
     "name": "stdout",
     "output_type": "stream",
     "text": [
      "['bird', 'cat', 'dog', 'fish']\n",
      "[[0 1 1 1]\n",
      " [0 2 1 0]\n",
      " [1 0 0 1]\n",
      " [1 0 0 0]]\n"
     ]
    }
   ],
   "source": [
    "#3.1\n",
    "\n",
    "##\n",
    "import sklearn\n",
    "sentence = 'What is the airspeed of an unladen swallow ?'\n",
    "sklearn.feature_extraction.text.CountVectorizer(sentence)\n",
    "#sklearn.feature_extraction.text.Tfidf_Vectorizer(sentence)\n",
    "##\n",
    "\n",
    "\n",
    "from sklearn.feature_extraction.text import CountVectorizer\n",
    "\n",
    "texts=[\"dog cat fish\",\"dog cat cat\",\"fish bird\", 'bird']\n",
    "cv = sklearn.feature_extraction.text.CountVectorizer(sentence)\n",
    "cv_fit=cv.fit_transform(texts)\n",
    "\n",
    "print(cv.get_feature_names())\n",
    "print(cv_fit.toarray())"
   ]
  },
  {
   "cell_type": "markdown",
   "metadata": {},
   "source": [
    "#3.2\n",
    "\n",
    "Sparse matrices apear naturaly with current encoding techniques such as:\n",
    "\n",
    "One-hot encoding, used to represent categorical data as sparse binary vectors.\n",
    "Count encoding, used to represent the frequency of words in a vocabulary for a document\n",
    "TF-IDF encoding, used to represent normalized word frequency scores in a vocabulary\n",
    "\n",
    "By using Sparse matices in practice, we can make operations such as matrix multiplications with less work.\n",
    "\n",
    "We actually usually run out of space before we run out of time if we use traditional dense aproach with \n",
    "very large matrices. This all assumes that you explicitly store and compute with all of the entries of the matrix, regardless of their values.\n",
    "\n",
    "The saving grace is that most really large matrices are sparse = mostly zeros (or have some other special structure with similar consequences). You only have to store the nonzero entries, and you can multiply matrix × vector quickly (you can skip the zeros).\n",
    "\n",
    "A possible representation of a sparse matrix could be the triplet representation where you represent the row, collum and value of each non 0 value intead of the complete matrix.\n",
    "\n",
    "You can measure sparsity with the following formula: \t\n",
    "sparsity = count zero elements / total elements\n",
    "\n",
    "\n",
    "Instead of sparse matrices we can also use Dictionary of Keys, a List of Lists or a Coordinate List\n",
    "\n",
    "If you are interested in implementation detail, you can check: https://machinelearningmastery.com/sparse-matrices-for-machine-learning/"
   ]
  },
  {
   "cell_type": "code",
   "execution_count": 119,
   "metadata": {},
   "outputs": [
    {
     "name": "stdout",
     "output_type": "stream",
     "text": [
      "['and', 'document', 'first', 'is', 'one', 'second', 'the', 'third', 'this']\n",
      "(4, 9)\n"
     ]
    }
   ],
   "source": [
    "#3.3\n",
    "from sklearn.feature_extraction.text import TfidfVectorizer\n",
    "corpus = [\n",
    "    'This is the first document.',\n",
    "     'This document is the second document.',\n",
    "     'And this is the third one.',\n",
    "     'Is this the first document?',\n",
    " ]\n",
    "vectorizer = TfidfVectorizer()\n",
    "X = vectorizer.fit_transform(corpus)\n",
    "print(vectorizer.get_feature_names())\n",
    "print(X.shape)"
   ]
  },
  {
   "cell_type": "markdown",
   "metadata": {},
   "source": [
    "To recall the TF-IDF is:\n",
    "\n",
    "tf(t,d) = count of t in d / number of words in d\n",
    "df(t) = occurrence of t in documents\n",
    "\n",
    "tf-idf(t, d) = tf(t, d) * log(N/(df + 1))\n",
    "\n",
    "where N is the count of corpus\n",
    "\n",
    "\"From our intuition, we think that the words which appear more often should have a greater weight in textual data analysis, but that’s not always the case. Words such as “the”, “will”, and “you” — called stopwords — appear the most in a corpus of text, but are of very little significance. Instead, the words which are rare are the ones that actually help in distinguishing between the data, and carry more weight.\"\n",
    "\n",
    "from https://www.freecodecamp.org/news/how-to-process-textual-data-using-tf-idf-in-python-cd2bbc0a94a3/"
   ]
  },
  {
   "cell_type": "code",
   "execution_count": 120,
   "metadata": {},
   "outputs": [
    {
     "data": {
      "text/plain": [
       "array([[1.        , 0.64692568, 0.30777187, 1.        ],\n",
       "       [0.64692568, 1.        , 0.22523955, 0.64692568],\n",
       "       [0.30777187, 0.22523955, 1.        , 0.30777187],\n",
       "       [1.        , 0.64692568, 0.30777187, 1.        ]])"
      ]
     },
     "execution_count": 120,
     "metadata": {},
     "output_type": "execute_result"
    }
   ],
   "source": [
    "#3.4\n",
    "sklearn.metrics.pairwise.cosine_similarity(X)\n",
    "#as we can see from the matrix there are 2 phrases that are the same (as we expected)"
   ]
  },
  {
   "cell_type": "code",
   "execution_count": null,
   "metadata": {},
   "outputs": [],
   "source": []
  },
  {
   "cell_type": "code",
   "execution_count": null,
   "metadata": {},
   "outputs": [],
   "source": []
  },
  {
   "cell_type": "code",
   "execution_count": null,
   "metadata": {},
   "outputs": [],
   "source": []
  }
 ],
 "metadata": {
  "kernelspec": {
   "display_name": "Python 3",
   "language": "python",
   "name": "python3"
  },
  "language_info": {
   "codemirror_mode": {
    "name": "ipython",
    "version": 3
   },
   "file_extension": ".py",
   "mimetype": "text/x-python",
   "name": "python",
   "nbconvert_exporter": "python",
   "pygments_lexer": "ipython3",
   "version": "3.8.5"
  }
 },
 "nbformat": 4,
 "nbformat_minor": 2
}
