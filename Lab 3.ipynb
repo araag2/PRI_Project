{
 "cells": [
  {
   "cell_type": "code",
   "execution_count": 1,
   "metadata": {},
   "outputs": [],
   "source": [
    "import os, os.path\n",
    "from whoosh import index\n",
    "from whoosh.fields import *\n",
    "\n",
    "if not os.path.exists(\"indexdir\"):\n",
    "    os.mkdir(\"indexdir\")\n",
    "    \n",
    "schema = Schema(id = NUMERIC(stored=True), content=TEXT)\n",
    "ix = index.create_in(\"indexdir\", schema=schema, indexname=\"usages\")\n",
    "#ix = index.open_dir(\"indexdir\", indexname=\"usages\")\n",
    "writer = ix.writer()\n",
    "\n",
    "exists = index.exists_in(\"indexdir\")\n",
    "usages_exists = index.exists_in(\"indexdir\", indexname=\"usages\")"
   ]
  },
  {
   "cell_type": "code",
   "execution_count": 2,
   "metadata": {},
   "outputs": [],
   "source": [
    "#example of adding different documents, don't forget to commit!\n",
    "#writer.add_document(id=1, content=u\"This is my document!\")\n",
    "#writer.add_document(id=2, content=u\"This is the second example.\")\n",
    "#writer.add_document(id=3, content=u\"Examples are many.\")\n",
    "#writer.commit()\n"
   ]
  },
  {
   "cell_type": "code",
   "execution_count": 3,
   "metadata": {},
   "outputs": [],
   "source": [
    "#1.1\n",
    "documents = open('pri_cfc.txt', 'r').read().lower().split('\\n')\n",
    "for document in documents:\n",
    "    ident = document.split(' ')[0]\n",
    "    cont = document[len(ident)+1:]\n",
    "    #print(ident)\n",
    "    if ident != '':\n",
    "        writer.add_document(id=int(ident), content=cont)\n",
    "writer.commit()  \n",
    "#lets see if all the documents are there\n",
    "#for i in ix.searcher().documents():\n",
    "#    print(i)"
   ]
  },
  {
   "cell_type": "code",
   "execution_count": 39,
   "metadata": {},
   "outputs": [
    {
     "name": "stdout",
     "output_type": "stream",
     "text": [
      "[157, 402, 809, 74, 412, 593, 78, 555, 923, 319, 485, 223, 195, 355, 1, 147, 858, 121, 179, 205, 526, 411, 631, 1150, 185, 258]\n"
     ]
    }
   ],
   "source": [
    "#1.2\n",
    "from whoosh.qparser import *\n",
    "def search_index (query):\n",
    "    ix = index.open_dir(\"indexdir\", indexname=\"usages\")\n",
    "    with ix.searcher() as searcher:\n",
    "        q = QueryParser(\"content\",ix.schema,group=OrGroup).parse(query)#u\"the significance\") \n",
    "        results = searcher.search(q,  limit=None)\n",
    "        #getting the matches\n",
    "        res_list = [r.values()[0] for r in results]\n",
    "        return res_list\n",
    "print(search_index(u\"the significance\"))"
   ]
  },
  {
   "cell_type": "code",
   "execution_count": 86,
   "metadata": {},
   "outputs": [],
   "source": [
    "#2.1\n",
    "def evaluate (retrieved, relevant):\n",
    "    relevant_retrieved = [i for i in retrieved if i in relevant]\n",
    "    Precision = len(relevant_retrieved) / len(retrieved)\n",
    "    Recall = len(relevant_retrieved) / len(relevant)\n",
    "    #the weighted harmonic mean of precision and recall\n",
    "    F_Score = 2 * ((Precision * Recall) / (Precision + Recall))\n",
    "    return Precision, Recall, F_Score\n"
   ]
  },
  {
   "cell_type": "code",
   "execution_count": 87,
   "metadata": {},
   "outputs": [],
   "source": [
    "#2.2\n",
    "\n",
    "documents = open('pri_queries.txt', 'r').read().lower().split('\\n')\n",
    "relevant = [i.split(' ') for i in documents[1::2]] \n",
    "relevant_int, results_precision, results_recall, results_f_score=[],[],[],[]\n",
    "for i in relevant:\n",
    "    relevant_int.append([int(s) for s in i])\n",
    "query_pairs = [list(x) for x in zip(*[documents[::2],relevant_int])] \n",
    "\n",
    "for pair in query_pairs:\n",
    "    \n",
    "    Precision, Recall, F_Score = evaluate(search_index(pair[0]),pair[1])\n",
    "    results_precision.append(Precision)\n",
    "    results_recall.append(Recall)\n",
    "    results_f_score.append(F_Score)\n",
    "results =[results_precision, results_recall, results_f_score]\n",
    "\n",
    "#import pprint\n",
    "#pp = pprint.PrettyPrinter(indent=4)\n",
    "#pp.pprint(results)\n"
   ]
  },
  {
   "cell_type": "code",
   "execution_count": 92,
   "metadata": {},
   "outputs": [
    {
     "data": {
      "image/png": "[encoded data removed]",
      "text/plain": [
       "<Figure size 432x288 with 1 Axes>"
      ]
     },
     "metadata": {
      "needs_background": "light"
     },
     "output_type": "display_data"
    }
   ],
   "source": [
    "import matplotlib.pyplot as plt\n",
    "plt.plot(results[0],'g*', results[1], 'ro', results[2], 'b+')\n",
    "plt.show()"
   ]
  },
  {
   "cell_type": "markdown",
   "metadata": {},
   "source": [
    "##3\n",
    "\n",
    "Q yielded => set R = {d1,d2,d3,d4,d5,d6,d7,d8,d9,d10,d11,d12,d13,d14,d15,d16,d17,d18,d19,d20}\n",
    "\n",
    "di where i is odd where judged as relevant: [1,3,5...]\n",
    "\n",
    "di where i is even where judged not relevant: [2,4,6...]\n",
    "\n",
    "So, relevant documents:\n",
    "R = {d1,d3,d5,d7,d9,d11,d13,d15,d17,d19}\n",
    "\n",
    "\n",
    "(a) Precision@5;\n",
    "\n",
    "(precision at the 5th retrieved document) = 3/5 \n",
    "number of documents that are relevant until then or precision of top k results\n",
    "\n",
    "(b) R-precision;\n",
    "\n",
    "(precision at the Rth document, where R is the number of relevant documents) = Precision@10 = 5/10 = 0.5\n",
    "\n",
    "\n",
    "(c) The interpolated precision and recall curve.\n",
    "\n",
    "For each percentage of the set R calculate the precision of that section:\n",
    "\n",
    "| Re | Pr  |\n",
    "| --- | --- |\n",
    "| 0.00 | 1/1 = 1.00 |\n",
    "| 0.10 | 1/1 = 1.00 |\n",
    "| 0.20 | 2/3 = 0.67 |\n",
    "| 0.30 | 3/5 = 0.60 |\n",
    "| 0.40 | 4/7 = 0.57 |\n",
    "| 0.50 | 5/9 = 0.56 |\n",
    "| 0.60 | 6/11 = 0.55 |\n",
    "| 0.70 | 7/13 = 0.54 |\n",
    "| 0.80 | 8/15 = 0.53 |\n",
    "| 0.90 | 9/17 = 0.53 |\n",
    "| 1.00 | 10/19 = 0.53 |\n",
    "\n"
   ]
  },
  {
   "cell_type": "code",
   "execution_count": 108,
   "metadata": {},
   "outputs": [
    {
     "name": "stderr",
     "output_type": "stream",
     "text": [
      "/Users/joaotiago/opt/anaconda3/envs/PRI/lib/python3.7/site-packages/ipykernel_launcher.py:28: UserWarning: Matplotlib is currently using module://ipykernel.pylab.backend_inline, which is a non-GUI backend, so cannot show the figure.\n"
     ]
    },
    {
     "data": {
      "image/png": "[encoded data removed]",
      "text/plain": [
       "<Figure size 432x288 with 1 Axes>"
      ]
     },
     "metadata": {
      "needs_background": "light"
     },
     "output_type": "display_data"
    }
   ],
   "source": [
    "#this is just an example on how to graph it\n",
    "\n",
    "import numpy as np\n",
    "#plt.plot([1,1,0.67,0.60,0.57,0.56,0.55,0.54,0.53,0.53,0.53],'gx')\n",
    "\n",
    "#just a dummy sample\n",
    "recall=np.linspace(0.0,1.0,num=42)\n",
    "precision=np.random.rand(42)*(1.-recall)\n",
    "precision2=precision.copy()\n",
    "i=recall.shape[0]-2\n",
    "\n",
    "# interpolation...\n",
    "while i>=0:\n",
    "    if precision[i+1]>precision[i]:\n",
    "        precision[i]=precision[i+1]\n",
    "    i=i-1\n",
    "\n",
    "# plotting...\n",
    "fig, ax = plt.subplots()\n",
    "for i in range(recall.shape[0]-1):\n",
    "    ax.plot((recall[i],recall[i]),(precision[i],precision[i+1]),'k-',label='',color='red') #vertical\n",
    "    ax.plot((recall[i],recall[i+1]),(precision[i+1],precision[i+1]),'k-',label='',color='red') #horizontal\n",
    "\n",
    "ax.plot(recall,precision2,'k--',color='blue')\n",
    "#ax.legend()\n",
    "ax.set_xlabel(\"recall\")\n",
    "ax.set_ylabel(\"precision\")\n",
    "fig.show()"
   ]
  }
 ],
 "metadata": {
  "kernelspec": {
   "display_name": "Python 3",
   "language": "python",
   "name": "python3"
  },
  "language_info": {
   "codemirror_mode": {
    "name": "ipython",
    "version": 3
   },
   "file_extension": ".py",
   "mimetype": "text/x-python",
   "name": "python",
   "nbconvert_exporter": "python",
   "pygments_lexer": "ipython3",
   "version": "3.7.8"
  }
 },
 "nbformat": 4,
 "nbformat_minor": 4
}
